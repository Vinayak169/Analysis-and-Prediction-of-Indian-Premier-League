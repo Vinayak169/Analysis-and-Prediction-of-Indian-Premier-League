{
  "nbformat": 4,
  "nbformat_minor": 0,
  "metadata": {
    "colab": {
      "name": "Player_EDA.ipynb",
      "provenance": []
    },
    "kernelspec": {
      "name": "python3",
      "display_name": "Python 3"
    },
    "language_info": {
      "name": "python"
    }
  },
  "cells": [
    {
      "cell_type": "markdown",
      "metadata": {
        "id": "0BR355-vI-4V"
      },
      "source": [
        "Importing Libraries:"
      ]
    },
    {
      "cell_type": "code",
      "metadata": {
        "id": "zbdF1abSFbia"
      },
      "source": [
        "import math\n",
        "import numpy as np\n",
        "import pandas as pd\n",
        "import matplotlib.pyplot as plt\n",
        "import seaborn as sns"
      ],
      "execution_count": null,
      "outputs": []
    },
    {
      "cell_type": "markdown",
      "metadata": {
        "id": "7Kkg-fHHJxNr"
      },
      "source": [
        "Mounting Drive:"
      ]
    },
    {
      "cell_type": "code",
      "metadata": {
        "colab": {
          "base_uri": "https://localhost:8080/"
        },
        "id": "K-j8WG7QJggy",
        "outputId": "0b03925f-fe3c-4028-b8c8-73c6c2a4fbc3"
      },
      "source": [
        "from google.colab import drive\n",
        "drive.mount('/content/drive')"
      ],
      "execution_count": null,
      "outputs": [
        {
          "output_type": "stream",
          "name": "stdout",
          "text": [
            "Mounted at /content/drive\n"
          ]
        }
      ]
    },
    {
      "cell_type": "markdown",
      "metadata": {
        "id": "3iMBGlB3JHxE"
      },
      "source": [
        "Importing Datasets:"
      ]
    },
    {
      "cell_type": "code",
      "metadata": {
        "colab": {
          "base_uri": "https://localhost:8080/",
          "height": 417
        },
        "id": "sjMcPiuzI96i",
        "outputId": "ddfca65d-43ba-4432-b8de-5f8eec714a01"
      },
      "source": [
        "data_matches = pd.read_csv('/content/drive/MyDrive/Sem3/DS203/Project/IPL Matches 2008-2020.csv')\n",
        "data_matches.head()"
      ],
      "execution_count": null,
      "outputs": [
        {
          "output_type": "execute_result",
          "data": {
            "text/html": [
              "<div>\n",
              "<style scoped>\n",
              "    .dataframe tbody tr th:only-of-type {\n",
              "        vertical-align: middle;\n",
              "    }\n",
              "\n",
              "    .dataframe tbody tr th {\n",
              "        vertical-align: top;\n",
              "    }\n",
              "\n",
              "    .dataframe thead th {\n",
              "        text-align: right;\n",
              "    }\n",
              "</style>\n",
              "<table border=\"1\" class=\"dataframe\">\n",
              "  <thead>\n",
              "    <tr style=\"text-align: right;\">\n",
              "      <th></th>\n",
              "      <th>id</th>\n",
              "      <th>city</th>\n",
              "      <th>date</th>\n",
              "      <th>player_of_match</th>\n",
              "      <th>venue</th>\n",
              "      <th>neutral_venue</th>\n",
              "      <th>team1</th>\n",
              "      <th>team2</th>\n",
              "      <th>toss_winner</th>\n",
              "      <th>toss_decision</th>\n",
              "      <th>winner</th>\n",
              "      <th>result</th>\n",
              "      <th>result_margin</th>\n",
              "      <th>eliminator</th>\n",
              "      <th>method</th>\n",
              "      <th>umpire1</th>\n",
              "      <th>umpire2</th>\n",
              "    </tr>\n",
              "  </thead>\n",
              "  <tbody>\n",
              "    <tr>\n",
              "      <th>0</th>\n",
              "      <td>335982</td>\n",
              "      <td>Bangalore</td>\n",
              "      <td>2008-04-18</td>\n",
              "      <td>BB McCullum</td>\n",
              "      <td>M Chinnaswamy Stadium</td>\n",
              "      <td>0</td>\n",
              "      <td>Royal Challengers Bangalore</td>\n",
              "      <td>Kolkata Knight Riders</td>\n",
              "      <td>Royal Challengers Bangalore</td>\n",
              "      <td>field</td>\n",
              "      <td>Kolkata Knight Riders</td>\n",
              "      <td>runs</td>\n",
              "      <td>140.0</td>\n",
              "      <td>N</td>\n",
              "      <td>NaN</td>\n",
              "      <td>Asad Rauf</td>\n",
              "      <td>RE Koertzen</td>\n",
              "    </tr>\n",
              "    <tr>\n",
              "      <th>1</th>\n",
              "      <td>335983</td>\n",
              "      <td>Chandigarh</td>\n",
              "      <td>2008-04-19</td>\n",
              "      <td>MEK Hussey</td>\n",
              "      <td>Punjab Cricket Association Stadium, Mohali</td>\n",
              "      <td>0</td>\n",
              "      <td>Kings XI Punjab</td>\n",
              "      <td>Chennai Super Kings</td>\n",
              "      <td>Chennai Super Kings</td>\n",
              "      <td>bat</td>\n",
              "      <td>Chennai Super Kings</td>\n",
              "      <td>runs</td>\n",
              "      <td>33.0</td>\n",
              "      <td>N</td>\n",
              "      <td>NaN</td>\n",
              "      <td>MR Benson</td>\n",
              "      <td>SL Shastri</td>\n",
              "    </tr>\n",
              "    <tr>\n",
              "      <th>2</th>\n",
              "      <td>335984</td>\n",
              "      <td>Delhi</td>\n",
              "      <td>2008-04-19</td>\n",
              "      <td>MF Maharoof</td>\n",
              "      <td>Feroz Shah Kotla</td>\n",
              "      <td>0</td>\n",
              "      <td>Delhi Daredevils</td>\n",
              "      <td>Rajasthan Royals</td>\n",
              "      <td>Rajasthan Royals</td>\n",
              "      <td>bat</td>\n",
              "      <td>Delhi Daredevils</td>\n",
              "      <td>wickets</td>\n",
              "      <td>9.0</td>\n",
              "      <td>N</td>\n",
              "      <td>NaN</td>\n",
              "      <td>Aleem Dar</td>\n",
              "      <td>GA Pratapkumar</td>\n",
              "    </tr>\n",
              "    <tr>\n",
              "      <th>3</th>\n",
              "      <td>335985</td>\n",
              "      <td>Mumbai</td>\n",
              "      <td>2008-04-20</td>\n",
              "      <td>MV Boucher</td>\n",
              "      <td>Wankhede Stadium</td>\n",
              "      <td>0</td>\n",
              "      <td>Mumbai Indians</td>\n",
              "      <td>Royal Challengers Bangalore</td>\n",
              "      <td>Mumbai Indians</td>\n",
              "      <td>bat</td>\n",
              "      <td>Royal Challengers Bangalore</td>\n",
              "      <td>wickets</td>\n",
              "      <td>5.0</td>\n",
              "      <td>N</td>\n",
              "      <td>NaN</td>\n",
              "      <td>SJ Davis</td>\n",
              "      <td>DJ Harper</td>\n",
              "    </tr>\n",
              "    <tr>\n",
              "      <th>4</th>\n",
              "      <td>335986</td>\n",
              "      <td>Kolkata</td>\n",
              "      <td>2008-04-20</td>\n",
              "      <td>DJ Hussey</td>\n",
              "      <td>Eden Gardens</td>\n",
              "      <td>0</td>\n",
              "      <td>Kolkata Knight Riders</td>\n",
              "      <td>Deccan Chargers</td>\n",
              "      <td>Deccan Chargers</td>\n",
              "      <td>bat</td>\n",
              "      <td>Kolkata Knight Riders</td>\n",
              "      <td>wickets</td>\n",
              "      <td>5.0</td>\n",
              "      <td>N</td>\n",
              "      <td>NaN</td>\n",
              "      <td>BF Bowden</td>\n",
              "      <td>K Hariharan</td>\n",
              "    </tr>\n",
              "  </tbody>\n",
              "</table>\n",
              "</div>"
            ],
            "text/plain": [
              "       id        city        date  ... method    umpire1         umpire2\n",
              "0  335982   Bangalore  2008-04-18  ...    NaN  Asad Rauf     RE Koertzen\n",
              "1  335983  Chandigarh  2008-04-19  ...    NaN  MR Benson      SL Shastri\n",
              "2  335984       Delhi  2008-04-19  ...    NaN  Aleem Dar  GA Pratapkumar\n",
              "3  335985      Mumbai  2008-04-20  ...    NaN   SJ Davis       DJ Harper\n",
              "4  335986     Kolkata  2008-04-20  ...    NaN  BF Bowden     K Hariharan\n",
              "\n",
              "[5 rows x 17 columns]"
            ]
          },
          "metadata": {},
          "execution_count": 4
        }
      ]
    },
    {
      "cell_type": "code",
      "metadata": {
        "colab": {
          "base_uri": "https://localhost:8080/",
          "height": 400
        },
        "id": "Z3ob2Jb3LCaO",
        "outputId": "63e7a338-8a82-4bee-9338-94f6ba48adbc"
      },
      "source": [
        "data_balls = pd.read_csv('/content/drive/MyDrive/Sem3/DS203/Project/IPL Ball-by-Ball 2008-2020.csv')\n",
        "data_balls.head()"
      ],
      "execution_count": null,
      "outputs": [
        {
          "output_type": "execute_result",
          "data": {
            "text/html": [
              "<div>\n",
              "<style scoped>\n",
              "    .dataframe tbody tr th:only-of-type {\n",
              "        vertical-align: middle;\n",
              "    }\n",
              "\n",
              "    .dataframe tbody tr th {\n",
              "        vertical-align: top;\n",
              "    }\n",
              "\n",
              "    .dataframe thead th {\n",
              "        text-align: right;\n",
              "    }\n",
              "</style>\n",
              "<table border=\"1\" class=\"dataframe\">\n",
              "  <thead>\n",
              "    <tr style=\"text-align: right;\">\n",
              "      <th></th>\n",
              "      <th>id</th>\n",
              "      <th>inning</th>\n",
              "      <th>over</th>\n",
              "      <th>ball</th>\n",
              "      <th>batsman</th>\n",
              "      <th>non_striker</th>\n",
              "      <th>bowler</th>\n",
              "      <th>batsman_runs</th>\n",
              "      <th>extra_runs</th>\n",
              "      <th>total_runs</th>\n",
              "      <th>non_boundary</th>\n",
              "      <th>is_wicket</th>\n",
              "      <th>dismissal_kind</th>\n",
              "      <th>player_dismissed</th>\n",
              "      <th>fielder</th>\n",
              "      <th>extras_type</th>\n",
              "      <th>batting_team</th>\n",
              "      <th>bowling_team</th>\n",
              "    </tr>\n",
              "  </thead>\n",
              "  <tbody>\n",
              "    <tr>\n",
              "      <th>0</th>\n",
              "      <td>335982</td>\n",
              "      <td>1</td>\n",
              "      <td>6</td>\n",
              "      <td>5</td>\n",
              "      <td>RT Ponting</td>\n",
              "      <td>BB McCullum</td>\n",
              "      <td>AA Noffke</td>\n",
              "      <td>1</td>\n",
              "      <td>0</td>\n",
              "      <td>1</td>\n",
              "      <td>0</td>\n",
              "      <td>0</td>\n",
              "      <td>NaN</td>\n",
              "      <td>NaN</td>\n",
              "      <td>NaN</td>\n",
              "      <td>NaN</td>\n",
              "      <td>Kolkata Knight Riders</td>\n",
              "      <td>Royal Challengers Bangalore</td>\n",
              "    </tr>\n",
              "    <tr>\n",
              "      <th>1</th>\n",
              "      <td>335982</td>\n",
              "      <td>1</td>\n",
              "      <td>6</td>\n",
              "      <td>6</td>\n",
              "      <td>BB McCullum</td>\n",
              "      <td>RT Ponting</td>\n",
              "      <td>AA Noffke</td>\n",
              "      <td>1</td>\n",
              "      <td>0</td>\n",
              "      <td>1</td>\n",
              "      <td>0</td>\n",
              "      <td>0</td>\n",
              "      <td>NaN</td>\n",
              "      <td>NaN</td>\n",
              "      <td>NaN</td>\n",
              "      <td>NaN</td>\n",
              "      <td>Kolkata Knight Riders</td>\n",
              "      <td>Royal Challengers Bangalore</td>\n",
              "    </tr>\n",
              "    <tr>\n",
              "      <th>2</th>\n",
              "      <td>335982</td>\n",
              "      <td>1</td>\n",
              "      <td>7</td>\n",
              "      <td>1</td>\n",
              "      <td>BB McCullum</td>\n",
              "      <td>RT Ponting</td>\n",
              "      <td>Z Khan</td>\n",
              "      <td>0</td>\n",
              "      <td>0</td>\n",
              "      <td>0</td>\n",
              "      <td>0</td>\n",
              "      <td>0</td>\n",
              "      <td>NaN</td>\n",
              "      <td>NaN</td>\n",
              "      <td>NaN</td>\n",
              "      <td>NaN</td>\n",
              "      <td>Kolkata Knight Riders</td>\n",
              "      <td>Royal Challengers Bangalore</td>\n",
              "    </tr>\n",
              "    <tr>\n",
              "      <th>3</th>\n",
              "      <td>335982</td>\n",
              "      <td>1</td>\n",
              "      <td>7</td>\n",
              "      <td>2</td>\n",
              "      <td>BB McCullum</td>\n",
              "      <td>RT Ponting</td>\n",
              "      <td>Z Khan</td>\n",
              "      <td>1</td>\n",
              "      <td>0</td>\n",
              "      <td>1</td>\n",
              "      <td>0</td>\n",
              "      <td>0</td>\n",
              "      <td>NaN</td>\n",
              "      <td>NaN</td>\n",
              "      <td>NaN</td>\n",
              "      <td>NaN</td>\n",
              "      <td>Kolkata Knight Riders</td>\n",
              "      <td>Royal Challengers Bangalore</td>\n",
              "    </tr>\n",
              "    <tr>\n",
              "      <th>4</th>\n",
              "      <td>335982</td>\n",
              "      <td>1</td>\n",
              "      <td>7</td>\n",
              "      <td>3</td>\n",
              "      <td>RT Ponting</td>\n",
              "      <td>BB McCullum</td>\n",
              "      <td>Z Khan</td>\n",
              "      <td>1</td>\n",
              "      <td>0</td>\n",
              "      <td>1</td>\n",
              "      <td>0</td>\n",
              "      <td>0</td>\n",
              "      <td>NaN</td>\n",
              "      <td>NaN</td>\n",
              "      <td>NaN</td>\n",
              "      <td>NaN</td>\n",
              "      <td>Kolkata Knight Riders</td>\n",
              "      <td>Royal Challengers Bangalore</td>\n",
              "    </tr>\n",
              "  </tbody>\n",
              "</table>\n",
              "</div>"
            ],
            "text/plain": [
              "       id  inning  ...           batting_team                 bowling_team\n",
              "0  335982       1  ...  Kolkata Knight Riders  Royal Challengers Bangalore\n",
              "1  335982       1  ...  Kolkata Knight Riders  Royal Challengers Bangalore\n",
              "2  335982       1  ...  Kolkata Knight Riders  Royal Challengers Bangalore\n",
              "3  335982       1  ...  Kolkata Knight Riders  Royal Challengers Bangalore\n",
              "4  335982       1  ...  Kolkata Knight Riders  Royal Challengers Bangalore\n",
              "\n",
              "[5 rows x 18 columns]"
            ]
          },
          "metadata": {},
          "execution_count": 5
        }
      ]
    },
    {
      "cell_type": "code",
      "metadata": {
        "colab": {
          "base_uri": "https://localhost:8080/",
          "height": 400
        },
        "id": "u4QHwS-GbckW",
        "outputId": "a4c94696-2372-4e23-deda-e2e77f3c092c"
      },
      "source": [
        "data = pd.merge(left = data_matches, right = data_balls, on='id', how = 'right')\n",
        "data.head()"
      ],
      "execution_count": null,
      "outputs": [
        {
          "output_type": "execute_result",
          "data": {
            "text/html": [
              "<div>\n",
              "<style scoped>\n",
              "    .dataframe tbody tr th:only-of-type {\n",
              "        vertical-align: middle;\n",
              "    }\n",
              "\n",
              "    .dataframe tbody tr th {\n",
              "        vertical-align: top;\n",
              "    }\n",
              "\n",
              "    .dataframe thead th {\n",
              "        text-align: right;\n",
              "    }\n",
              "</style>\n",
              "<table border=\"1\" class=\"dataframe\">\n",
              "  <thead>\n",
              "    <tr style=\"text-align: right;\">\n",
              "      <th></th>\n",
              "      <th>id</th>\n",
              "      <th>city</th>\n",
              "      <th>date</th>\n",
              "      <th>player_of_match</th>\n",
              "      <th>venue</th>\n",
              "      <th>neutral_venue</th>\n",
              "      <th>team1</th>\n",
              "      <th>team2</th>\n",
              "      <th>toss_winner</th>\n",
              "      <th>toss_decision</th>\n",
              "      <th>winner</th>\n",
              "      <th>result</th>\n",
              "      <th>result_margin</th>\n",
              "      <th>eliminator</th>\n",
              "      <th>method</th>\n",
              "      <th>umpire1</th>\n",
              "      <th>umpire2</th>\n",
              "      <th>inning</th>\n",
              "      <th>over</th>\n",
              "      <th>ball</th>\n",
              "      <th>batsman</th>\n",
              "      <th>non_striker</th>\n",
              "      <th>bowler</th>\n",
              "      <th>batsman_runs</th>\n",
              "      <th>extra_runs</th>\n",
              "      <th>total_runs</th>\n",
              "      <th>non_boundary</th>\n",
              "      <th>is_wicket</th>\n",
              "      <th>dismissal_kind</th>\n",
              "      <th>player_dismissed</th>\n",
              "      <th>fielder</th>\n",
              "      <th>extras_type</th>\n",
              "      <th>batting_team</th>\n",
              "      <th>bowling_team</th>\n",
              "    </tr>\n",
              "  </thead>\n",
              "  <tbody>\n",
              "    <tr>\n",
              "      <th>0</th>\n",
              "      <td>335982</td>\n",
              "      <td>Bangalore</td>\n",
              "      <td>2008-04-18</td>\n",
              "      <td>BB McCullum</td>\n",
              "      <td>M Chinnaswamy Stadium</td>\n",
              "      <td>0</td>\n",
              "      <td>Royal Challengers Bangalore</td>\n",
              "      <td>Kolkata Knight Riders</td>\n",
              "      <td>Royal Challengers Bangalore</td>\n",
              "      <td>field</td>\n",
              "      <td>Kolkata Knight Riders</td>\n",
              "      <td>runs</td>\n",
              "      <td>140.0</td>\n",
              "      <td>N</td>\n",
              "      <td>NaN</td>\n",
              "      <td>Asad Rauf</td>\n",
              "      <td>RE Koertzen</td>\n",
              "      <td>1</td>\n",
              "      <td>6</td>\n",
              "      <td>5</td>\n",
              "      <td>RT Ponting</td>\n",
              "      <td>BB McCullum</td>\n",
              "      <td>AA Noffke</td>\n",
              "      <td>1</td>\n",
              "      <td>0</td>\n",
              "      <td>1</td>\n",
              "      <td>0</td>\n",
              "      <td>0</td>\n",
              "      <td>NaN</td>\n",
              "      <td>NaN</td>\n",
              "      <td>NaN</td>\n",
              "      <td>NaN</td>\n",
              "      <td>Kolkata Knight Riders</td>\n",
              "      <td>Royal Challengers Bangalore</td>\n",
              "    </tr>\n",
              "    <tr>\n",
              "      <th>1</th>\n",
              "      <td>335982</td>\n",
              "      <td>Bangalore</td>\n",
              "      <td>2008-04-18</td>\n",
              "      <td>BB McCullum</td>\n",
              "      <td>M Chinnaswamy Stadium</td>\n",
              "      <td>0</td>\n",
              "      <td>Royal Challengers Bangalore</td>\n",
              "      <td>Kolkata Knight Riders</td>\n",
              "      <td>Royal Challengers Bangalore</td>\n",
              "      <td>field</td>\n",
              "      <td>Kolkata Knight Riders</td>\n",
              "      <td>runs</td>\n",
              "      <td>140.0</td>\n",
              "      <td>N</td>\n",
              "      <td>NaN</td>\n",
              "      <td>Asad Rauf</td>\n",
              "      <td>RE Koertzen</td>\n",
              "      <td>1</td>\n",
              "      <td>6</td>\n",
              "      <td>6</td>\n",
              "      <td>BB McCullum</td>\n",
              "      <td>RT Ponting</td>\n",
              "      <td>AA Noffke</td>\n",
              "      <td>1</td>\n",
              "      <td>0</td>\n",
              "      <td>1</td>\n",
              "      <td>0</td>\n",
              "      <td>0</td>\n",
              "      <td>NaN</td>\n",
              "      <td>NaN</td>\n",
              "      <td>NaN</td>\n",
              "      <td>NaN</td>\n",
              "      <td>Kolkata Knight Riders</td>\n",
              "      <td>Royal Challengers Bangalore</td>\n",
              "    </tr>\n",
              "    <tr>\n",
              "      <th>2</th>\n",
              "      <td>335982</td>\n",
              "      <td>Bangalore</td>\n",
              "      <td>2008-04-18</td>\n",
              "      <td>BB McCullum</td>\n",
              "      <td>M Chinnaswamy Stadium</td>\n",
              "      <td>0</td>\n",
              "      <td>Royal Challengers Bangalore</td>\n",
              "      <td>Kolkata Knight Riders</td>\n",
              "      <td>Royal Challengers Bangalore</td>\n",
              "      <td>field</td>\n",
              "      <td>Kolkata Knight Riders</td>\n",
              "      <td>runs</td>\n",
              "      <td>140.0</td>\n",
              "      <td>N</td>\n",
              "      <td>NaN</td>\n",
              "      <td>Asad Rauf</td>\n",
              "      <td>RE Koertzen</td>\n",
              "      <td>1</td>\n",
              "      <td>7</td>\n",
              "      <td>1</td>\n",
              "      <td>BB McCullum</td>\n",
              "      <td>RT Ponting</td>\n",
              "      <td>Z Khan</td>\n",
              "      <td>0</td>\n",
              "      <td>0</td>\n",
              "      <td>0</td>\n",
              "      <td>0</td>\n",
              "      <td>0</td>\n",
              "      <td>NaN</td>\n",
              "      <td>NaN</td>\n",
              "      <td>NaN</td>\n",
              "      <td>NaN</td>\n",
              "      <td>Kolkata Knight Riders</td>\n",
              "      <td>Royal Challengers Bangalore</td>\n",
              "    </tr>\n",
              "    <tr>\n",
              "      <th>3</th>\n",
              "      <td>335982</td>\n",
              "      <td>Bangalore</td>\n",
              "      <td>2008-04-18</td>\n",
              "      <td>BB McCullum</td>\n",
              "      <td>M Chinnaswamy Stadium</td>\n",
              "      <td>0</td>\n",
              "      <td>Royal Challengers Bangalore</td>\n",
              "      <td>Kolkata Knight Riders</td>\n",
              "      <td>Royal Challengers Bangalore</td>\n",
              "      <td>field</td>\n",
              "      <td>Kolkata Knight Riders</td>\n",
              "      <td>runs</td>\n",
              "      <td>140.0</td>\n",
              "      <td>N</td>\n",
              "      <td>NaN</td>\n",
              "      <td>Asad Rauf</td>\n",
              "      <td>RE Koertzen</td>\n",
              "      <td>1</td>\n",
              "      <td>7</td>\n",
              "      <td>2</td>\n",
              "      <td>BB McCullum</td>\n",
              "      <td>RT Ponting</td>\n",
              "      <td>Z Khan</td>\n",
              "      <td>1</td>\n",
              "      <td>0</td>\n",
              "      <td>1</td>\n",
              "      <td>0</td>\n",
              "      <td>0</td>\n",
              "      <td>NaN</td>\n",
              "      <td>NaN</td>\n",
              "      <td>NaN</td>\n",
              "      <td>NaN</td>\n",
              "      <td>Kolkata Knight Riders</td>\n",
              "      <td>Royal Challengers Bangalore</td>\n",
              "    </tr>\n",
              "    <tr>\n",
              "      <th>4</th>\n",
              "      <td>335982</td>\n",
              "      <td>Bangalore</td>\n",
              "      <td>2008-04-18</td>\n",
              "      <td>BB McCullum</td>\n",
              "      <td>M Chinnaswamy Stadium</td>\n",
              "      <td>0</td>\n",
              "      <td>Royal Challengers Bangalore</td>\n",
              "      <td>Kolkata Knight Riders</td>\n",
              "      <td>Royal Challengers Bangalore</td>\n",
              "      <td>field</td>\n",
              "      <td>Kolkata Knight Riders</td>\n",
              "      <td>runs</td>\n",
              "      <td>140.0</td>\n",
              "      <td>N</td>\n",
              "      <td>NaN</td>\n",
              "      <td>Asad Rauf</td>\n",
              "      <td>RE Koertzen</td>\n",
              "      <td>1</td>\n",
              "      <td>7</td>\n",
              "      <td>3</td>\n",
              "      <td>RT Ponting</td>\n",
              "      <td>BB McCullum</td>\n",
              "      <td>Z Khan</td>\n",
              "      <td>1</td>\n",
              "      <td>0</td>\n",
              "      <td>1</td>\n",
              "      <td>0</td>\n",
              "      <td>0</td>\n",
              "      <td>NaN</td>\n",
              "      <td>NaN</td>\n",
              "      <td>NaN</td>\n",
              "      <td>NaN</td>\n",
              "      <td>Kolkata Knight Riders</td>\n",
              "      <td>Royal Challengers Bangalore</td>\n",
              "    </tr>\n",
              "  </tbody>\n",
              "</table>\n",
              "</div>"
            ],
            "text/plain": [
              "       id       city  ...           batting_team                 bowling_team\n",
              "0  335982  Bangalore  ...  Kolkata Knight Riders  Royal Challengers Bangalore\n",
              "1  335982  Bangalore  ...  Kolkata Knight Riders  Royal Challengers Bangalore\n",
              "2  335982  Bangalore  ...  Kolkata Knight Riders  Royal Challengers Bangalore\n",
              "3  335982  Bangalore  ...  Kolkata Knight Riders  Royal Challengers Bangalore\n",
              "4  335982  Bangalore  ...  Kolkata Knight Riders  Royal Challengers Bangalore\n",
              "\n",
              "[5 rows x 34 columns]"
            ]
          },
          "metadata": {},
          "execution_count": 6
        }
      ]
    },
    {
      "cell_type": "code",
      "metadata": {
        "id": "lQfQvqSpdw4J",
        "colab": {
          "base_uri": "https://localhost:8080/"
        },
        "outputId": "1f26172f-5b4e-4331-d1c8-675733328eb9"
      },
      "source": [
        "data.info()"
      ],
      "execution_count": null,
      "outputs": [
        {
          "output_type": "stream",
          "name": "stdout",
          "text": [
            "<class 'pandas.core.frame.DataFrame'>\n",
            "Int64Index: 193468 entries, 0 to 193467\n",
            "Data columns (total 34 columns):\n",
            " #   Column            Non-Null Count   Dtype  \n",
            "---  ------            --------------   -----  \n",
            " 0   id                193468 non-null  int64  \n",
            " 1   city              190329 non-null  object \n",
            " 2   date              193468 non-null  object \n",
            " 3   player_of_match   193096 non-null  object \n",
            " 4   venue             193468 non-null  object \n",
            " 5   neutral_venue     193468 non-null  int64  \n",
            " 6   team1             193468 non-null  object \n",
            " 7   team2             193468 non-null  object \n",
            " 8   toss_winner       193468 non-null  object \n",
            " 9   toss_decision     193468 non-null  object \n",
            " 10  winner            193096 non-null  object \n",
            " 11  result            193096 non-null  object \n",
            " 12  result_margin     189871 non-null  float64\n",
            " 13  eliminator        193096 non-null  object \n",
            " 14  method            3208 non-null    object \n",
            " 15  umpire1           193468 non-null  object \n",
            " 16  umpire2           193468 non-null  object \n",
            " 17  inning            193468 non-null  int64  \n",
            " 18  over              193468 non-null  int64  \n",
            " 19  ball              193468 non-null  int64  \n",
            " 20  batsman           193468 non-null  object \n",
            " 21  non_striker       193468 non-null  object \n",
            " 22  bowler            193468 non-null  object \n",
            " 23  batsman_runs      193468 non-null  int64  \n",
            " 24  extra_runs        193468 non-null  int64  \n",
            " 25  total_runs        193468 non-null  int64  \n",
            " 26  non_boundary      193468 non-null  int64  \n",
            " 27  is_wicket         193468 non-null  int64  \n",
            " 28  dismissal_kind    9495 non-null    object \n",
            " 29  player_dismissed  9495 non-null    object \n",
            " 30  fielder           6784 non-null    object \n",
            " 31  extras_type       10233 non-null   object \n",
            " 32  batting_team      193468 non-null  object \n",
            " 33  bowling_team      193277 non-null  object \n",
            "dtypes: float64(1), int64(10), object(23)\n",
            "memory usage: 51.7+ MB\n"
          ]
        }
      ]
    },
    {
      "cell_type": "markdown",
      "metadata": {
        "id": "i2FtZVDhTKQc"
      },
      "source": [
        "# Batting Analysis"
      ]
    },
    {
      "cell_type": "markdown",
      "metadata": {
        "id": "JptH6M4hTOzg"
      },
      "source": [
        "Most Runs by a Batsman across the years"
      ]
    },
    {
      "cell_type": "code",
      "metadata": {
        "colab": {
          "base_uri": "https://localhost:8080/"
        },
        "id": "5HeTzjWATB-h",
        "outputId": "f537b8bf-cbbe-470e-ddd5-5ca6b5d9fd5d"
      },
      "source": [
        "temp_df = data_balls.groupby(['batsman'])['batsman_runs'].sum().sort_values(ascending=False)\n",
        "temp_df.head(10)"
      ],
      "execution_count": null,
      "outputs": [
        {
          "output_type": "execute_result",
          "data": {
            "text/plain": [
              "batsman\n",
              "V Kohli           5878\n",
              "SK Raina          5368\n",
              "DA Warner         5254\n",
              "RG Sharma         5230\n",
              "S Dhawan          5197\n",
              "AB de Villiers    4849\n",
              "CH Gayle          4772\n",
              "MS Dhoni          4632\n",
              "RV Uthappa        4607\n",
              "G Gambhir         4217\n",
              "Name: batsman_runs, dtype: int64"
            ]
          },
          "metadata": {},
          "execution_count": 24
        }
      ]
    },
    {
      "cell_type": "code",
      "metadata": {
        "colab": {
          "base_uri": "https://localhost:8080/",
          "height": 346
        },
        "id": "HQt81DIeVV2e",
        "outputId": "f3f44503-94c5-4f30-afba-f3efd70086b1"
      },
      "source": [
        "plt.figure(figsize=(13,5))\n",
        "sns.barplot(y=temp_df[:10],x=temp_df[:10].index)\n",
        "plt.xlabel('Batsman Name',fontsize=20)\n",
        "plt.ylabel('Total Runs',fontsize=20)\n",
        "plt.rc('xtick', labelsize=12)\n",
        "plt.rc('ytick', labelsize=12)"
      ],
      "execution_count": null,
      "outputs": [
        {
          "output_type": "display_data",
          "data": {
            "image/png": "[encoded data removed]",
            "text/plain": [
              "<Figure size 936x360 with 1 Axes>"
            ]
          },
          "metadata": {
            "needs_background": "light"
          }
        }
      ]
    },
    {
      "cell_type": "markdown",
      "metadata": {
        "id": "1ctExOjxU9-J"
      },
      "source": [
        "Most Sixes by a batsman"
      ]
    },
    {
      "cell_type": "code",
      "metadata": {
        "id": "QE1W-2vdWHzA",
        "colab": {
          "base_uri": "https://localhost:8080/"
        },
        "outputId": "e773df10-d4ed-4959-f5b4-3596cd0ff5f0"
      },
      "source": [
        "temp_df = data_balls[data_balls['batsman_runs']==6].groupby(['batsman'])['batsman_runs'].count().sort_values(ascending=False)\n",
        "temp_df.head(10)"
      ],
      "execution_count": null,
      "outputs": [
        {
          "output_type": "execute_result",
          "data": {
            "text/plain": [
              "batsman\n",
              "CH Gayle          349\n",
              "AB de Villiers    235\n",
              "MS Dhoni          216\n",
              "RG Sharma         214\n",
              "V Kohli           202\n",
              "KA Pollard        198\n",
              "DA Warner         195\n",
              "SK Raina          194\n",
              "SR Watson         190\n",
              "RV Uthappa        163\n",
              "Name: batsman_runs, dtype: int64"
            ]
          },
          "metadata": {},
          "execution_count": 19
        }
      ]
    },
    {
      "cell_type": "code",
      "metadata": {
        "colab": {
          "base_uri": "https://localhost:8080/",
          "height": 360
        },
        "id": "lV7MO2xOW-VK",
        "outputId": "e2e40667-3d26-4287-e802-e41da88b00af"
      },
      "source": [
        "plt.figure(figsize=(13,5))\n",
        "sns.barplot(y=temp_df[:10],x=temp_df[:10].index)\n",
        "plt.xlabel('Batsman Name',fontsize=20)\n",
        "plt.ylabel('Number of Sixes',fontsize=20)"
      ],
      "execution_count": null,
      "outputs": [
        {
          "output_type": "execute_result",
          "data": {
            "text/plain": [
              "Text(0, 0.5, 'Number of Sixes')"
            ]
          },
          "metadata": {},
          "execution_count": 20
        },
        {
          "output_type": "display_data",
          "data": {
            "image/png": "[encoded data removed]",
            "text/plain": [
              "<Figure size 936x360 with 1 Axes>"
            ]
          },
          "metadata": {
            "needs_background": "light"
          }
        }
      ]
    },
    {
      "cell_type": "markdown",
      "metadata": {
        "id": "770HRIePZzF9"
      },
      "source": [
        "Most Sixes in an innings"
      ]
    },
    {
      "cell_type": "code",
      "metadata": {
        "colab": {
          "base_uri": "https://localhost:8080/"
        },
        "id": "lTZNiecuZ37D",
        "outputId": "fd2307ec-1e27-43bf-8a8c-fa85b876d0e8"
      },
      "source": [
        "temp_df = data[data['batsman_runs']==6].groupby(['date','batsman'])['batsman_runs'].count().sort_values(ascending=False)\n",
        "temp_df.head(10)"
      ],
      "execution_count": null,
      "outputs": [
        {
          "output_type": "execute_result",
          "data": {
            "text/plain": [
              "date        batsman       \n",
              "2013-04-23  CH Gayle          17\n",
              "2008-04-18  BB McCullum       13\n",
              "2012-05-17  CH Gayle          13\n",
              "2015-05-06  CH Gayle          12\n",
              "2016-05-14  AB de Villiers    12\n",
              "2018-04-10  AD Russell        11\n",
              "2010-04-03  M Vijay           11\n",
              "2018-04-19  CH Gayle          11\n",
              "2008-05-14  ST Jayasuriya     11\n",
              "2018-04-15  SV Samson         10\n",
              "Name: batsman_runs, dtype: int64"
            ]
          },
          "metadata": {},
          "execution_count": 21
        }
      ]
    },
    {
      "cell_type": "markdown",
      "metadata": {
        "id": "fUUwb5oJcRBB"
      },
      "source": [
        "Most Centuries"
      ]
    },
    {
      "cell_type": "code",
      "metadata": {
        "colab": {
          "base_uri": "https://localhost:8080/"
        },
        "id": "HKteSRzvckzV",
        "outputId": "039f01b7-ecde-4e9d-c4e2-f6045b95a79a"
      },
      "source": [
        "temp_df1 = data.groupby(['date','batsman'])['batsman_runs'].sum()\n",
        "temp_df = temp_df1[temp_df1>=100].groupby('batsman').count().sort_values(ascending=False)\n",
        "temp_df.head(10)"
      ],
      "execution_count": null,
      "outputs": [
        {
          "output_type": "execute_result",
          "data": {
            "text/plain": [
              "batsman\n",
              "CH Gayle          6\n",
              "V Kohli           5\n",
              "SR Watson         4\n",
              "DA Warner         4\n",
              "AB de Villiers    3\n",
              "BA Stokes         2\n",
              "S Dhawan          2\n",
              "M Vijay           2\n",
              "HM Amla           2\n",
              "BB McCullum       2\n",
              "Name: batsman_runs, dtype: int64"
            ]
          },
          "metadata": {},
          "execution_count": 22
        }
      ]
    },
    {
      "cell_type": "code",
      "metadata": {
        "colab": {
          "base_uri": "https://localhost:8080/",
          "height": 468
        },
        "id": "MFgseuxmXCSq",
        "outputId": "94bc030f-13a1-4786-feab-efe7c42ef3cd"
      },
      "source": [
        "plt.figure(figsize=(10,7))\n",
        "sns.barplot(y=temp_df[:5],x=temp_df[:5].index)\n",
        "plt.xlabel('Batsman Name',fontsize=20)\n",
        "plt.ylabel('No. of centuries',fontsize=20)"
      ],
      "execution_count": null,
      "outputs": [
        {
          "output_type": "execute_result",
          "data": {
            "text/plain": [
              "Text(0, 0.5, 'No. of centuries')"
            ]
          },
          "metadata": {},
          "execution_count": 76
        },
        {
          "output_type": "display_data",
          "data": {
            "image/png": "[encoded data removed]",
            "text/plain": [
              "<Figure size 720x504 with 1 Axes>"
            ]
          },
          "metadata": {
            "needs_background": "light"
          }
        }
      ]
    },
    {
      "cell_type": "markdown",
      "metadata": {
        "id": "C1NdrV1GddgW"
      },
      "source": [
        "Most Half Centuries"
      ]
    },
    {
      "cell_type": "code",
      "metadata": {
        "colab": {
          "base_uri": "https://localhost:8080/"
        },
        "id": "SS_ImkHTdg5X",
        "outputId": "2d717d4c-90bf-4664-e2f3-efe70bf6a90b"
      },
      "source": [
        "temp_df1 = data.groupby(['date','batsman'])['batsman_runs'].sum()\n",
        "temp_df = temp_df1[temp_df1>=50].groupby('batsman').count().sort_values(ascending=False)\n",
        "temp_df.head(10)"
      ],
      "execution_count": null,
      "outputs": [
        {
          "output_type": "execute_result",
          "data": {
            "text/plain": [
              "batsman\n",
              "DA Warner         52\n",
              "V Kohli           44\n",
              "S Dhawan          43\n",
              "AB de Villiers    41\n",
              "RG Sharma         40\n",
              "SK Raina          39\n",
              "CH Gayle          37\n",
              "G Gambhir         36\n",
              "AM Rahane         30\n",
              "SR Watson         25\n",
              "Name: batsman_runs, dtype: int64"
            ]
          },
          "metadata": {},
          "execution_count": 77
        }
      ]
    },
    {
      "cell_type": "code",
      "metadata": {
        "colab": {
          "base_uri": "https://localhost:8080/",
          "height": 468
        },
        "id": "t7GtjMAIXDSW",
        "outputId": "2ce42430-a851-4d05-ff28-a002188024f7"
      },
      "source": [
        "plt.figure(figsize=(10,7))\n",
        "sns.barplot(y=temp_df[:5],x=temp_df[:5].index)\n",
        "plt.xlabel('Batsman Name',fontsize=20)\n",
        "plt.ylabel('Number of Half Centuries',fontsize=20)"
      ],
      "execution_count": null,
      "outputs": [
        {
          "output_type": "execute_result",
          "data": {
            "text/plain": [
              "Text(0, 0.5, 'Number of Half Centuries')"
            ]
          },
          "metadata": {},
          "execution_count": 11
        },
        {
          "output_type": "display_data",
          "data": {
            "image/png": "[encoded data removed]",
            "text/plain": [
              "<Figure size 720x504 with 1 Axes>"
            ]
          },
          "metadata": {
            "needs_background": "light"
          }
        }
      ]
    },
    {
      "cell_type": "code",
      "metadata": {
        "colab": {
          "base_uri": "https://localhost:8080/",
          "height": 400
        },
        "id": "LQKjpqovPRQJ",
        "outputId": "ccac1a2e-f58e-434b-8f52-8f5a0c2307dc"
      },
      "source": [
        "data['season']=data['date'].str[:4]\n",
        "data.head()"
      ],
      "execution_count": null,
      "outputs": [
        {
          "output_type": "execute_result",
          "data": {
            "text/html": [
              "<div>\n",
              "<style scoped>\n",
              "    .dataframe tbody tr th:only-of-type {\n",
              "        vertical-align: middle;\n",
              "    }\n",
              "\n",
              "    .dataframe tbody tr th {\n",
              "        vertical-align: top;\n",
              "    }\n",
              "\n",
              "    .dataframe thead th {\n",
              "        text-align: right;\n",
              "    }\n",
              "</style>\n",
              "<table border=\"1\" class=\"dataframe\">\n",
              "  <thead>\n",
              "    <tr style=\"text-align: right;\">\n",
              "      <th></th>\n",
              "      <th>id</th>\n",
              "      <th>city</th>\n",
              "      <th>date</th>\n",
              "      <th>player_of_match</th>\n",
              "      <th>venue</th>\n",
              "      <th>neutral_venue</th>\n",
              "      <th>team1</th>\n",
              "      <th>team2</th>\n",
              "      <th>toss_winner</th>\n",
              "      <th>toss_decision</th>\n",
              "      <th>winner</th>\n",
              "      <th>result</th>\n",
              "      <th>result_margin</th>\n",
              "      <th>eliminator</th>\n",
              "      <th>method</th>\n",
              "      <th>umpire1</th>\n",
              "      <th>umpire2</th>\n",
              "      <th>inning</th>\n",
              "      <th>over</th>\n",
              "      <th>ball</th>\n",
              "      <th>batsman</th>\n",
              "      <th>non_striker</th>\n",
              "      <th>bowler</th>\n",
              "      <th>batsman_runs</th>\n",
              "      <th>extra_runs</th>\n",
              "      <th>total_runs</th>\n",
              "      <th>non_boundary</th>\n",
              "      <th>is_wicket</th>\n",
              "      <th>dismissal_kind</th>\n",
              "      <th>player_dismissed</th>\n",
              "      <th>fielder</th>\n",
              "      <th>extras_type</th>\n",
              "      <th>batting_team</th>\n",
              "      <th>bowling_team</th>\n",
              "      <th>season</th>\n",
              "    </tr>\n",
              "  </thead>\n",
              "  <tbody>\n",
              "    <tr>\n",
              "      <th>0</th>\n",
              "      <td>335982</td>\n",
              "      <td>Bangalore</td>\n",
              "      <td>2008-04-18</td>\n",
              "      <td>BB McCullum</td>\n",
              "      <td>M Chinnaswamy Stadium</td>\n",
              "      <td>0</td>\n",
              "      <td>Royal Challengers Bangalore</td>\n",
              "      <td>Kolkata Knight Riders</td>\n",
              "      <td>Royal Challengers Bangalore</td>\n",
              "      <td>field</td>\n",
              "      <td>Kolkata Knight Riders</td>\n",
              "      <td>runs</td>\n",
              "      <td>140.0</td>\n",
              "      <td>N</td>\n",
              "      <td>NaN</td>\n",
              "      <td>Asad Rauf</td>\n",
              "      <td>RE Koertzen</td>\n",
              "      <td>1</td>\n",
              "      <td>6</td>\n",
              "      <td>5</td>\n",
              "      <td>RT Ponting</td>\n",
              "      <td>BB McCullum</td>\n",
              "      <td>AA Noffke</td>\n",
              "      <td>1</td>\n",
              "      <td>0</td>\n",
              "      <td>1</td>\n",
              "      <td>0</td>\n",
              "      <td>0</td>\n",
              "      <td>NaN</td>\n",
              "      <td>NaN</td>\n",
              "      <td>NaN</td>\n",
              "      <td>NaN</td>\n",
              "      <td>Kolkata Knight Riders</td>\n",
              "      <td>Royal Challengers Bangalore</td>\n",
              "      <td>2008</td>\n",
              "    </tr>\n",
              "    <tr>\n",
              "      <th>1</th>\n",
              "      <td>335982</td>\n",
              "      <td>Bangalore</td>\n",
              "      <td>2008-04-18</td>\n",
              "      <td>BB McCullum</td>\n",
              "      <td>M Chinnaswamy Stadium</td>\n",
              "      <td>0</td>\n",
              "      <td>Royal Challengers Bangalore</td>\n",
              "      <td>Kolkata Knight Riders</td>\n",
              "      <td>Royal Challengers Bangalore</td>\n",
              "      <td>field</td>\n",
              "      <td>Kolkata Knight Riders</td>\n",
              "      <td>runs</td>\n",
              "      <td>140.0</td>\n",
              "      <td>N</td>\n",
              "      <td>NaN</td>\n",
              "      <td>Asad Rauf</td>\n",
              "      <td>RE Koertzen</td>\n",
              "      <td>1</td>\n",
              "      <td>6</td>\n",
              "      <td>6</td>\n",
              "      <td>BB McCullum</td>\n",
              "      <td>RT Ponting</td>\n",
              "      <td>AA Noffke</td>\n",
              "      <td>1</td>\n",
              "      <td>0</td>\n",
              "      <td>1</td>\n",
              "      <td>0</td>\n",
              "      <td>0</td>\n",
              "      <td>NaN</td>\n",
              "      <td>NaN</td>\n",
              "      <td>NaN</td>\n",
              "      <td>NaN</td>\n",
              "      <td>Kolkata Knight Riders</td>\n",
              "      <td>Royal Challengers Bangalore</td>\n",
              "      <td>2008</td>\n",
              "    </tr>\n",
              "    <tr>\n",
              "      <th>2</th>\n",
              "      <td>335982</td>\n",
              "      <td>Bangalore</td>\n",
              "      <td>2008-04-18</td>\n",
              "      <td>BB McCullum</td>\n",
              "      <td>M Chinnaswamy Stadium</td>\n",
              "      <td>0</td>\n",
              "      <td>Royal Challengers Bangalore</td>\n",
              "      <td>Kolkata Knight Riders</td>\n",
              "      <td>Royal Challengers Bangalore</td>\n",
              "      <td>field</td>\n",
              "      <td>Kolkata Knight Riders</td>\n",
              "      <td>runs</td>\n",
              "      <td>140.0</td>\n",
              "      <td>N</td>\n",
              "      <td>NaN</td>\n",
              "      <td>Asad Rauf</td>\n",
              "      <td>RE Koertzen</td>\n",
              "      <td>1</td>\n",
              "      <td>7</td>\n",
              "      <td>1</td>\n",
              "      <td>BB McCullum</td>\n",
              "      <td>RT Ponting</td>\n",
              "      <td>Z Khan</td>\n",
              "      <td>0</td>\n",
              "      <td>0</td>\n",
              "      <td>0</td>\n",
              "      <td>0</td>\n",
              "      <td>0</td>\n",
              "      <td>NaN</td>\n",
              "      <td>NaN</td>\n",
              "      <td>NaN</td>\n",
              "      <td>NaN</td>\n",
              "      <td>Kolkata Knight Riders</td>\n",
              "      <td>Royal Challengers Bangalore</td>\n",
              "      <td>2008</td>\n",
              "    </tr>\n",
              "    <tr>\n",
              "      <th>3</th>\n",
              "      <td>335982</td>\n",
              "      <td>Bangalore</td>\n",
              "      <td>2008-04-18</td>\n",
              "      <td>BB McCullum</td>\n",
              "      <td>M Chinnaswamy Stadium</td>\n",
              "      <td>0</td>\n",
              "      <td>Royal Challengers Bangalore</td>\n",
              "      <td>Kolkata Knight Riders</td>\n",
              "      <td>Royal Challengers Bangalore</td>\n",
              "      <td>field</td>\n",
              "      <td>Kolkata Knight Riders</td>\n",
              "      <td>runs</td>\n",
              "      <td>140.0</td>\n",
              "      <td>N</td>\n",
              "      <td>NaN</td>\n",
              "      <td>Asad Rauf</td>\n",
              "      <td>RE Koertzen</td>\n",
              "      <td>1</td>\n",
              "      <td>7</td>\n",
              "      <td>2</td>\n",
              "      <td>BB McCullum</td>\n",
              "      <td>RT Ponting</td>\n",
              "      <td>Z Khan</td>\n",
              "      <td>1</td>\n",
              "      <td>0</td>\n",
              "      <td>1</td>\n",
              "      <td>0</td>\n",
              "      <td>0</td>\n",
              "      <td>NaN</td>\n",
              "      <td>NaN</td>\n",
              "      <td>NaN</td>\n",
              "      <td>NaN</td>\n",
              "      <td>Kolkata Knight Riders</td>\n",
              "      <td>Royal Challengers Bangalore</td>\n",
              "      <td>2008</td>\n",
              "    </tr>\n",
              "    <tr>\n",
              "      <th>4</th>\n",
              "      <td>335982</td>\n",
              "      <td>Bangalore</td>\n",
              "      <td>2008-04-18</td>\n",
              "      <td>BB McCullum</td>\n",
              "      <td>M Chinnaswamy Stadium</td>\n",
              "      <td>0</td>\n",
              "      <td>Royal Challengers Bangalore</td>\n",
              "      <td>Kolkata Knight Riders</td>\n",
              "      <td>Royal Challengers Bangalore</td>\n",
              "      <td>field</td>\n",
              "      <td>Kolkata Knight Riders</td>\n",
              "      <td>runs</td>\n",
              "      <td>140.0</td>\n",
              "      <td>N</td>\n",
              "      <td>NaN</td>\n",
              "      <td>Asad Rauf</td>\n",
              "      <td>RE Koertzen</td>\n",
              "      <td>1</td>\n",
              "      <td>7</td>\n",
              "      <td>3</td>\n",
              "      <td>RT Ponting</td>\n",
              "      <td>BB McCullum</td>\n",
              "      <td>Z Khan</td>\n",
              "      <td>1</td>\n",
              "      <td>0</td>\n",
              "      <td>1</td>\n",
              "      <td>0</td>\n",
              "      <td>0</td>\n",
              "      <td>NaN</td>\n",
              "      <td>NaN</td>\n",
              "      <td>NaN</td>\n",
              "      <td>NaN</td>\n",
              "      <td>Kolkata Knight Riders</td>\n",
              "      <td>Royal Challengers Bangalore</td>\n",
              "      <td>2008</td>\n",
              "    </tr>\n",
              "  </tbody>\n",
              "</table>\n",
              "</div>"
            ],
            "text/plain": [
              "       id       city  ...                 bowling_team season\n",
              "0  335982  Bangalore  ...  Royal Challengers Bangalore   2008\n",
              "1  335982  Bangalore  ...  Royal Challengers Bangalore   2008\n",
              "2  335982  Bangalore  ...  Royal Challengers Bangalore   2008\n",
              "3  335982  Bangalore  ...  Royal Challengers Bangalore   2008\n",
              "4  335982  Bangalore  ...  Royal Challengers Bangalore   2008\n",
              "\n",
              "[5 rows x 35 columns]"
            ]
          },
          "metadata": {},
          "execution_count": 38
        }
      ]
    },
    {
      "cell_type": "markdown",
      "metadata": {
        "id": "ItxKCYmRdnsc"
      },
      "source": [
        "Orange cap Winners (Most runs in a particular season)"
      ]
    },
    {
      "cell_type": "code",
      "metadata": {
        "colab": {
          "base_uri": "https://localhost:8080/"
        },
        "id": "nBPeaDUWQs4v",
        "outputId": "f4dece58-0891-4709-c52f-9d58c8ecc5a0"
      },
      "source": [
        "temp_df = data.groupby(['season','batsman'])['batsman_runs'].sum().groupby(['season']).max()\n",
        "temp_df1 = pd.DataFrame(data.groupby(['season','batsman'])['batsman_runs'].sum())\n",
        "for season,batsman_runs in temp_df.items():\n",
        "  player = temp_df1.loc[season][temp_df1.loc[season]['batsman_runs'] == batsman_runs].index[0]\n",
        "  print(str(season)+'\\t'+str(player)+'\\t'+str(batsman_runs))\n"
      ],
      "execution_count": null,
      "outputs": [
        {
          "output_type": "stream",
          "name": "stdout",
          "text": [
            "2008\tSE Marsh\t616\n",
            "2009\tML Hayden\t572\n",
            "2010\tSR Tendulkar\t618\n",
            "2011\tCH Gayle\t608\n",
            "2012\tCH Gayle\t733\n",
            "2013\tMEK Hussey\t733\n",
            "2014\tRV Uthappa\t660\n",
            "2015\tDA Warner\t562\n",
            "2016\tV Kohli\t973\n",
            "2017\tDA Warner\t641\n",
            "2018\tKS Williamson\t735\n",
            "2019\tDA Warner\t692\n",
            "2020\tKL Rahul\t670\n"
          ]
        }
      ]
    },
    {
      "cell_type": "markdown",
      "metadata": {
        "id": "QlRYDB9ZUpz4"
      },
      "source": [
        "Highest individual Score in an innings"
      ]
    },
    {
      "cell_type": "code",
      "metadata": {
        "colab": {
          "base_uri": "https://localhost:8080/"
        },
        "id": "1giD_Ds6Uxys",
        "outputId": "61ef0aec-3766-4c07-d3d4-8e63ed1e2b13"
      },
      "source": [
        "temp_df = data.groupby(['date','batsman'])['batsman_runs'].sum().sort_values(ascending=False)\n",
        "temp_df.head(10)"
      ],
      "execution_count": null,
      "outputs": [
        {
          "output_type": "execute_result",
          "data": {
            "text/plain": [
              "date        batsman       \n",
              "2013-04-23  CH Gayle          175\n",
              "2008-04-18  BB McCullum       158\n",
              "2015-05-10  AB de Villiers    133\n",
              "2020-09-24  KL Rahul          132\n",
              "2016-05-14  AB de Villiers    129\n",
              "2012-05-17  CH Gayle          128\n",
              "2018-05-10  RR Pant           128\n",
              "2010-04-03  M Vijay           127\n",
              "2017-04-30  DA Warner         126\n",
              "2014-05-30  V Sehwag          122\n",
              "Name: batsman_runs, dtype: int64"
            ]
          },
          "metadata": {},
          "execution_count": 29
        }
      ]
    },
    {
      "cell_type": "markdown",
      "metadata": {
        "id": "A_QGvZKkVAU9"
      },
      "source": [
        "Most 4s by a batsman"
      ]
    },
    {
      "cell_type": "code",
      "metadata": {
        "colab": {
          "base_uri": "https://localhost:8080/"
        },
        "id": "GEw8I-LvVJt1",
        "outputId": "70ea93c8-752c-40ff-8806-2448b628f1c0"
      },
      "source": [
        "temp_df = data_balls[data_balls['batsman_runs']==4].groupby(['batsman'])['batsman_runs'].count().sort_values(ascending=False)\n",
        "temp_df.head(10)"
      ],
      "execution_count": null,
      "outputs": [
        {
          "output_type": "execute_result",
          "data": {
            "text/plain": [
              "batsman\n",
              "S Dhawan          591\n",
              "DA Warner         510\n",
              "V Kohli           504\n",
              "SK Raina          493\n",
              "G Gambhir         492\n",
              "RG Sharma         458\n",
              "RV Uthappa        454\n",
              "AM Rahane         416\n",
              "AB de Villiers    390\n",
              "CH Gayle          384\n",
              "Name: batsman_runs, dtype: int64"
            ]
          },
          "metadata": {},
          "execution_count": 81
        }
      ]
    },
    {
      "cell_type": "code",
      "metadata": {
        "colab": {
          "base_uri": "https://localhost:8080/",
          "height": 468
        },
        "id": "8TRP42cZXG19",
        "outputId": "9d394e42-9352-46c4-9921-fc3353a44876"
      },
      "source": [
        "plt.figure(figsize=(20,7))\n",
        "sns.barplot(y=temp_df[:10],x=temp_df[:10].index)\n",
        "plt.xlabel('Batsman Name',fontsize=20)\n",
        "plt.ylabel('Total Runs',fontsize=20)"
      ],
      "execution_count": null,
      "outputs": [
        {
          "output_type": "execute_result",
          "data": {
            "text/plain": [
              "Text(0, 0.5, 'Total Runs')"
            ]
          },
          "metadata": {},
          "execution_count": 83
        },
        {
          "output_type": "display_data",
          "data": {
            "image/png": "[encoded data removed]",
            "text/plain": [
              "<Figure size 1440x504 with 1 Axes>"
            ]
          },
          "metadata": {
            "needs_background": "light"
          }
        }
      ]
    },
    {
      "cell_type": "code",
      "metadata": {
        "colab": {
          "base_uri": "https://localhost:8080/"
        },
        "id": "6_twddQQVSlV",
        "outputId": "59831b70-5d95-4123-d8a8-cc641a94f7aa"
      },
      "source": [
        "temp_df = data[data['batsman_runs']==4].groupby(['date','batsman'])['batsman_runs'].count().sort_values(ascending=False)\n",
        "temp_df.head(10)"
      ],
      "execution_count": null,
      "outputs": [
        {
          "output_type": "execute_result",
          "data": {
            "text/plain": [
              "date        batsman       \n",
              "2015-05-10  AB de Villiers    19\n",
              "2011-04-13  PC Valthaty       19\n",
              "2012-04-06  AM Rahane         16\n",
              "2010-04-07  MJ Lumb           16\n",
              "2017-05-10  SS Iyer           15\n",
              "2018-05-10  RR Pant           15\n",
              "2016-04-17  Q de Kock         15\n",
              "2012-05-25  M Vijay           15\n",
              "2014-04-18  GJ Maxwell        15\n",
              "2020-10-25  BA Stokes         14\n",
              "Name: batsman_runs, dtype: int64"
            ]
          },
          "metadata": {},
          "execution_count": 84
        }
      ]
    },
    {
      "cell_type": "markdown",
      "metadata": {
        "id": "68f9QkArgQWo"
      },
      "source": [
        "Hard-Hitting Ability which is calculated as: (Fours +Sixes)/Number of Balls\n"
      ]
    },
    {
      "cell_type": "code",
      "metadata": {
        "colab": {
          "base_uri": "https://localhost:8080/",
          "height": 394
        },
        "id": "1ajEG93Pg7eW",
        "outputId": "362f9539-2eb8-4eb8-ce31-5fa75d379ecc"
      },
      "source": [
        "Fours = pd.DataFrame(data_balls[data_balls['batsman_runs']==4].groupby(['batsman'])['batsman_runs'].count())\n",
        "Sixes = pd.DataFrame(data_balls[data_balls['batsman_runs']==6].groupby(['batsman'])['batsman_runs'].count())\n",
        "Balls = pd.DataFrame(data_balls.groupby(['batsman'])['ball'].count())\n",
        "Four_Six = pd.merge(left = Fours, right = Sixes, on='batsman', how = 'right')\n",
        "Four_Six = pd.merge(left = Four_Six, right = Balls, on='batsman', how = 'right')\n",
        "Four_Six.columns = ['Fours','Sixes','Balls']\n",
        "Four_Six['Hard Hitting Ability']=(Four_Six['Fours']+Four_Six['Sixes'])/Four_Six['Balls']\n",
        "Four_Six=Four_Six.fillna(0)\n",
        "Four_Six = Four_Six[Four_Six['Balls']>=50] \n",
        "Four_Six = pd.DataFrame(Four_Six['Hard Hitting Ability'].sort_values(ascending=False))\n",
        "Four_Six.head(10)"
      ],
      "execution_count": null,
      "outputs": [
        {
          "output_type": "execute_result",
          "data": {
            "text/html": [
              "<div>\n",
              "<style scoped>\n",
              "    .dataframe tbody tr th:only-of-type {\n",
              "        vertical-align: middle;\n",
              "    }\n",
              "\n",
              "    .dataframe tbody tr th {\n",
              "        vertical-align: top;\n",
              "    }\n",
              "\n",
              "    .dataframe thead th {\n",
              "        text-align: right;\n",
              "    }\n",
              "</style>\n",
              "<table border=\"1\" class=\"dataframe\">\n",
              "  <thead>\n",
              "    <tr style=\"text-align: right;\">\n",
              "      <th></th>\n",
              "      <th>Hard Hitting Ability</th>\n",
              "    </tr>\n",
              "    <tr>\n",
              "      <th>batsman</th>\n",
              "      <th></th>\n",
              "    </tr>\n",
              "  </thead>\n",
              "  <tbody>\n",
              "    <tr>\n",
              "      <th>LJ Wright</th>\n",
              "      <td>0.301587</td>\n",
              "    </tr>\n",
              "    <tr>\n",
              "      <th>SP Narine</th>\n",
              "      <td>0.270506</td>\n",
              "    </tr>\n",
              "    <tr>\n",
              "      <th>Kamran Akmal</th>\n",
              "      <td>0.269231</td>\n",
              "    </tr>\n",
              "    <tr>\n",
              "      <th>AD Russell</th>\n",
              "      <td>0.265306</td>\n",
              "    </tr>\n",
              "    <tr>\n",
              "      <th>MJ Lumb</th>\n",
              "      <td>0.257576</td>\n",
              "    </tr>\n",
              "    <tr>\n",
              "      <th>AC Blizzard</th>\n",
              "      <td>0.252747</td>\n",
              "    </tr>\n",
              "    <tr>\n",
              "      <th>KK Cooper</th>\n",
              "      <td>0.242857</td>\n",
              "    </tr>\n",
              "    <tr>\n",
              "      <th>V Sehwag</th>\n",
              "      <td>0.240044</td>\n",
              "    </tr>\n",
              "    <tr>\n",
              "      <th>BCJ Cutting</th>\n",
              "      <td>0.232877</td>\n",
              "    </tr>\n",
              "    <tr>\n",
              "      <th>N Pooran</th>\n",
              "      <td>0.222910</td>\n",
              "    </tr>\n",
              "  </tbody>\n",
              "</table>\n",
              "</div>"
            ],
            "text/plain": [
              "              Hard Hitting Ability\n",
              "batsman                           \n",
              "LJ Wright                 0.301587\n",
              "SP Narine                 0.270506\n",
              "Kamran Akmal              0.269231\n",
              "AD Russell                0.265306\n",
              "MJ Lumb                   0.257576\n",
              "AC Blizzard               0.252747\n",
              "KK Cooper                 0.242857\n",
              "V Sehwag                  0.240044\n",
              "BCJ Cutting               0.232877\n",
              "N Pooran                  0.222910"
            ]
          },
          "metadata": {},
          "execution_count": 7
        }
      ]
    },
    {
      "cell_type": "markdown",
      "metadata": {
        "id": "tTwBrCU9lDzg"
      },
      "source": [
        "Finishing Ability calculated as Not out Innings/Total Innings"
      ]
    },
    {
      "cell_type": "code",
      "metadata": {
        "colab": {
          "base_uri": "https://localhost:8080/",
          "height": 394
        },
        "id": "xqQuSvxLlCxF",
        "outputId": "78a7085c-6db4-44b1-8853-7ea23bb69382"
      },
      "source": [
        "out_in = data[data['is_wicket']==1].groupby(['batsman'])['date'].count()\n",
        "tot_in = data.groupby('batsman')['date'].count()\n",
        "nout_in = tot_in - out_in\n",
        "Finish = nout_in/tot_in\n",
        "Finish=Finish.fillna(0)\n",
        "Finish=pd.DataFrame(Finish.sort_values(ascending=False))\n",
        "Finish.columns = ['Finishing Ability']\n",
        "Finish.head(10)"
      ],
      "execution_count": null,
      "outputs": [
        {
          "output_type": "execute_result",
          "data": {
            "text/html": [
              "<div>\n",
              "<style scoped>\n",
              "    .dataframe tbody tr th:only-of-type {\n",
              "        vertical-align: middle;\n",
              "    }\n",
              "\n",
              "    .dataframe tbody tr th {\n",
              "        vertical-align: top;\n",
              "    }\n",
              "\n",
              "    .dataframe thead th {\n",
              "        text-align: right;\n",
              "    }\n",
              "</style>\n",
              "<table border=\"1\" class=\"dataframe\">\n",
              "  <thead>\n",
              "    <tr style=\"text-align: right;\">\n",
              "      <th></th>\n",
              "      <th>Finishing Ability</th>\n",
              "    </tr>\n",
              "    <tr>\n",
              "      <th>batsman</th>\n",
              "      <th></th>\n",
              "    </tr>\n",
              "  </thead>\n",
              "  <tbody>\n",
              "    <tr>\n",
              "      <th>Iqbal Abdulla</th>\n",
              "      <td>0.988372</td>\n",
              "    </tr>\n",
              "    <tr>\n",
              "      <th>RD Gaikwad</th>\n",
              "      <td>0.982659</td>\n",
              "    </tr>\n",
              "    <tr>\n",
              "      <th>MN van Wyk</th>\n",
              "      <td>0.977778</td>\n",
              "    </tr>\n",
              "    <tr>\n",
              "      <th>PD Collingwood</th>\n",
              "      <td>0.974843</td>\n",
              "    </tr>\n",
              "    <tr>\n",
              "      <th>PV Tambe</th>\n",
              "      <td>0.974359</td>\n",
              "    </tr>\n",
              "    <tr>\n",
              "      <th>B Sumanth</th>\n",
              "      <td>0.973684</td>\n",
              "    </tr>\n",
              "    <tr>\n",
              "      <th>DJ Harris</th>\n",
              "      <td>0.970874</td>\n",
              "    </tr>\n",
              "    <tr>\n",
              "      <th>JP Duminy</th>\n",
              "      <td>0.970833</td>\n",
              "    </tr>\n",
              "    <tr>\n",
              "      <th>LMP Simmons</th>\n",
              "      <td>0.969248</td>\n",
              "    </tr>\n",
              "    <tr>\n",
              "      <th>HM Amla</th>\n",
              "      <td>0.968900</td>\n",
              "    </tr>\n",
              "  </tbody>\n",
              "</table>\n",
              "</div>"
            ],
            "text/plain": [
              "                Finishing Ability\n",
              "batsman                          \n",
              "Iqbal Abdulla            0.988372\n",
              "RD Gaikwad               0.982659\n",
              "MN van Wyk               0.977778\n",
              "PD Collingwood           0.974843\n",
              "PV Tambe                 0.974359\n",
              "B Sumanth                0.973684\n",
              "DJ Harris                0.970874\n",
              "JP Duminy                0.970833\n",
              "LMP Simmons              0.969248\n",
              "HM Amla                  0.968900"
            ]
          },
          "metadata": {},
          "execution_count": 15
        }
      ]
    },
    {
      "cell_type": "markdown",
      "metadata": {
        "id": "_BBbfUJiUhmc"
      },
      "source": [
        "# Bowling Analysis"
      ]
    },
    {
      "cell_type": "markdown",
      "metadata": {
        "id": "YEFT0lV0nGB3"
      },
      "source": [
        "Most Wickets in IPL Career"
      ]
    },
    {
      "cell_type": "code",
      "metadata": {
        "colab": {
          "base_uri": "https://localhost:8080/"
        },
        "id": "fk86YHYSnJq-",
        "outputId": "8d3396b9-d210-4b0b-a989-14a0e7dfe227"
      },
      "source": [
        "temp_df = data[(data['dismissal_kind']!='run out') & (data['dismissal_kind'].notnull())].groupby(['bowler']).count()['ball'].sort_values(ascending=False)\n",
        "temp_df.head(10)"
      ],
      "execution_count": null,
      "outputs": [
        {
          "output_type": "execute_result",
          "data": {
            "text/plain": [
              "bowler\n",
              "SL Malinga         170\n",
              "A Mishra           160\n",
              "PP Chawla          156\n",
              "DJ Bravo           153\n",
              "Harbhajan Singh    150\n",
              "R Ashwin           138\n",
              "B Kumar            136\n",
              "SP Narine          127\n",
              "YS Chahal          121\n",
              "UT Yadav           119\n",
              "Name: ball, dtype: int64"
            ]
          },
          "metadata": {},
          "execution_count": 21
        }
      ]
    },
    {
      "cell_type": "code",
      "metadata": {
        "colab": {
          "base_uri": "https://localhost:8080/",
          "height": 360
        },
        "id": "4Z-UDuA8qvNb",
        "outputId": "0655f2f8-61c1-4eff-88c0-8be32bfa9e0d"
      },
      "source": [
        "plt.figure(figsize=(12,5))\n",
        "sns.barplot(y=temp_df[:10],x=temp_df[:10].index)\n",
        "plt.xlabel('Bowler Name',fontsize=20)\n",
        "plt.ylabel('Number of Wickets',fontsize=20)"
      ],
      "execution_count": null,
      "outputs": [
        {
          "output_type": "execute_result",
          "data": {
            "text/plain": [
              "Text(0, 0.5, 'Number of Wickets')"
            ]
          },
          "metadata": {},
          "execution_count": 22
        },
        {
          "output_type": "display_data",
          "data": {
            "image/png": "[encoded data removed]",
            "text/plain": [
              "<Figure size 864x360 with 1 Axes>"
            ]
          },
          "metadata": {
            "needs_background": "light"
          }
        }
      ]
    },
    {
      "cell_type": "markdown",
      "metadata": {
        "id": "p135MW6yVRu0"
      },
      "source": [
        "Least and Most Runs Conceded in an inning by a bowler"
      ]
    },
    {
      "cell_type": "code",
      "metadata": {
        "colab": {
          "base_uri": "https://localhost:8080/"
        },
        "id": "Vx4ZTXXhWEIj",
        "outputId": "08a6295f-d2e5-4210-8d2b-de526912e9e2"
      },
      "source": [
        "temp_df=data.groupby(['bowler','date'])['batsman_runs'].sum().sort_values(ascending=True)\n",
        "temp_df.head(10)"
      ],
      "execution_count": null,
      "outputs": [
        {
          "output_type": "execute_result",
          "data": {
            "text/plain": [
              "bowler        date      \n",
              "DP Nannes     2011-04-12    0\n",
              "Z Khan        2015-05-17    0\n",
              "SK Raina      2010-04-22    0\n",
              "JM Kemp       2010-03-21    0\n",
              "RA Jadeja     2008-05-30    0\n",
              "SK Raina      2011-05-09    0\n",
              "AC Gilchrist  2013-05-18    0\n",
              "DJ Bravo      2019-03-23    0\n",
              "YS Chahal     2019-04-30    0\n",
              "JP Duminy     2012-04-22    0\n",
              "Name: batsman_runs, dtype: int64"
            ]
          },
          "metadata": {},
          "execution_count": 6
        }
      ]
    },
    {
      "cell_type": "code",
      "metadata": {
        "colab": {
          "base_uri": "https://localhost:8080/"
        },
        "id": "m0SnHeUNWyrU",
        "outputId": "28c082ba-bd57-401d-e3ea-96e1bbc9fcb7"
      },
      "source": [
        "temp_df=data.groupby(['bowler','date'])['batsman_runs'].sum().sort_values(ascending=False)\n",
        "temp_df.head(10)"
      ],
      "execution_count": null,
      "outputs": [
        {
          "output_type": "execute_result",
          "data": {
            "text/plain": [
              "bowler            date      \n",
              "Basil Thampi      2018-05-17    69\n",
              "UT Yadav          2013-05-10    64\n",
              "I Sharma          2013-05-08    63\n",
              "S Kaul            2020-10-04    62\n",
              "MG Neser          2013-05-06    61\n",
              "AB Dinda          2013-04-13    61\n",
              "Sandeep Sharma    2014-05-14    61\n",
              "VR Aaron          2012-05-25    60\n",
              "Imran Tahir       2016-05-15    59\n",
              "Mujeeb Ur Rahman  2019-04-29    59\n",
              "Name: batsman_runs, dtype: int64"
            ]
          },
          "metadata": {},
          "execution_count": 64
        }
      ]
    },
    {
      "cell_type": "markdown",
      "metadata": {
        "id": "Nq9moazaXGPS"
      },
      "source": [
        "Purple Cap Winners"
      ]
    },
    {
      "cell_type": "code",
      "metadata": {
        "colab": {
          "base_uri": "https://localhost:8080/"
        },
        "id": "LPjEbS7ZXOBQ",
        "outputId": "75ec976b-2640-48f8-863d-de8b2ec06bed"
      },
      "source": [
        "temp_df = data[(data['dismissal_kind']!='run out') & (data['dismissal_kind'].notnull())].groupby(['season','bowler']).count()['ball'].groupby(['season']).max()\n",
        "temp_df1 = pd.DataFrame(data[(data['dismissal_kind']!='run out') & (data['dismissal_kind'].notnull())].groupby(['season','bowler']).count()['ball'])\n",
        "for season,wicket in temp_df.items():\n",
        "  player = temp_df1.loc[season][temp_df1.loc[season]['ball'] == wicket].index[0]\n",
        "  print(str(season)+'\\t'+str(player)+'\\t'+str(wicket))"
      ],
      "execution_count": null,
      "outputs": [
        {
          "output_type": "stream",
          "name": "stdout",
          "text": [
            "2008\tSohail Tanvir\t22\n",
            "2009\tRP Singh\t23\n",
            "2010\tPP Ojha\t21\n",
            "2011\tSL Malinga\t28\n",
            "2012\tM Morkel\t25\n",
            "2013\tDJ Bravo\t32\n",
            "2014\tMM Sharma\t23\n",
            "2015\tDJ Bravo\t26\n",
            "2016\tB Kumar\t23\n",
            "2017\tB Kumar\t26\n",
            "2018\tAJ Tye\t24\n",
            "2019\tImran Tahir\t26\n",
            "2020\tK Rabada\t30\n"
          ]
        }
      ]
    },
    {
      "cell_type": "markdown",
      "metadata": {
        "id": "BLR7NRp9ngWe"
      },
      "source": [
        "Most Dot Balls in IPL Career"
      ]
    },
    {
      "cell_type": "code",
      "metadata": {
        "colab": {
          "base_uri": "https://localhost:8080/"
        },
        "id": "u0hO932jnft_",
        "outputId": "f191504a-90a4-4edd-e428-a20e92d9fa9d"
      },
      "source": [
        "temp_df = data[data['batsman_runs']==0].groupby(['bowler']).count()['ball'].sort_values(ascending=False)\n",
        "temp_df.head(10)"
      ],
      "execution_count": null,
      "outputs": [
        {
          "output_type": "execute_result",
          "data": {
            "text/plain": [
              "bowler\n",
              "Harbhajan Singh    1368\n",
              "SL Malinga         1358\n",
              "B Kumar            1315\n",
              "R Ashwin           1306\n",
              "P Kumar            1260\n",
              "A Mishra           1219\n",
              "PP Chawla          1203\n",
              "SP Narine          1183\n",
              "DW Steyn           1159\n",
              "UT Yadav           1126\n",
              "Name: ball, dtype: int64"
            ]
          },
          "metadata": {},
          "execution_count": 23
        }
      ]
    },
    {
      "cell_type": "code",
      "metadata": {
        "colab": {
          "base_uri": "https://localhost:8080/",
          "height": 360
        },
        "id": "s6E-2hdOrGdR",
        "outputId": "d8ca14ee-c6bd-4dd2-b945-cf152b67cbbf"
      },
      "source": [
        "plt.figure(figsize=(13,5))\n",
        "sns.barplot(y=temp_df[:10],x=temp_df[:10].index)\n",
        "plt.xlabel('Bowler Name',fontsize=20)\n",
        "plt.ylabel('Number of Dot Balls',fontsize=20)"
      ],
      "execution_count": null,
      "outputs": [
        {
          "output_type": "execute_result",
          "data": {
            "text/plain": [
              "Text(0, 0.5, 'Number of Dot Balls')"
            ]
          },
          "metadata": {},
          "execution_count": 24
        },
        {
          "output_type": "display_data",
          "data": {
            "image/png": "[encoded data removed]",
            "text/plain": [
              "<Figure size 936x360 with 1 Axes>"
            ]
          },
          "metadata": {
            "needs_background": "light"
          }
        }
      ]
    },
    {
      "cell_type": "markdown",
      "metadata": {
        "id": "b-qJx_kQn3r3"
      },
      "source": [
        "Most Maiden Overs by a Bowler"
      ]
    },
    {
      "cell_type": "code",
      "metadata": {
        "colab": {
          "base_uri": "https://localhost:8080/"
        },
        "id": "Vq6WBp5toD91",
        "outputId": "c5920b5b-73fc-4554-cf30-58fee0664071"
      },
      "source": [
        "temp_df = data.groupby(['over','bowler','date'])['batsman_runs'].sum()\n",
        "temp_df = temp_df[temp_df.values == 0].droplevel(level=[0,2])\n",
        "temp_df.index.value_counts()[:10]"
      ],
      "execution_count": null,
      "outputs": [
        {
          "output_type": "execute_result",
          "data": {
            "text/plain": [
              "P Kumar            17\n",
              "B Kumar            13\n",
              "SL Malinga         12\n",
              "IK Pathan          11\n",
              "DW Steyn           10\n",
              "DS Kulkarni        10\n",
              "Z Khan              9\n",
              "Harbhajan Singh     8\n",
              "Sandeep Sharma      8\n",
              "I Sharma            7\n",
              "Name: bowler, dtype: int64"
            ]
          },
          "metadata": {},
          "execution_count": 54
        }
      ]
    },
    {
      "cell_type": "markdown",
      "metadata": {
        "id": "ZuPkqtzon-cX"
      },
      "source": [
        "Most No Balls by a Bowler"
      ]
    },
    {
      "cell_type": "code",
      "metadata": {
        "colab": {
          "base_uri": "https://localhost:8080/"
        },
        "id": "dV7aoDnFpsTP",
        "outputId": "821382fa-3285-4787-ddd5-dbe7f1e0620d"
      },
      "source": [
        "temp_df = data[data['extras_type']=='noballs'].groupby('bowler').count()['ball'].sort_values(ascending=False)\n",
        "temp_df.head(10)"
      ],
      "execution_count": null,
      "outputs": [
        {
          "output_type": "execute_result",
          "data": {
            "text/plain": [
              "bowler\n",
              "S Sreesanth    23\n",
              "JJ Bumrah      22\n",
              "I Sharma       21\n",
              "A Mishra       21\n",
              "SL Malinga     18\n",
              "UT Yadav       18\n",
              "AB Dinda       14\n",
              "JA Morkel      13\n",
              "RP Singh       13\n",
              "SR Watson      13\n",
              "Name: ball, dtype: int64"
            ]
          },
          "metadata": {},
          "execution_count": 59
        }
      ]
    },
    {
      "cell_type": "markdown",
      "metadata": {
        "id": "XQbZGnyirZOQ"
      },
      "source": [
        "Bowlers with best Economy (Economy = Runs conceded by the bowler/Number of Overs)"
      ]
    },
    {
      "cell_type": "code",
      "metadata": {
        "colab": {
          "base_uri": "https://localhost:8080/",
          "height": 394
        },
        "id": "vo2nTjdsrsZu",
        "outputId": "041646e0-fca9-4add-a06c-752603bcf156"
      },
      "source": [
        "Runs = pd.DataFrame(data_balls.groupby(['bowler'])['batsman_runs'].sum())\n",
        "balls = pd.DataFrame(data_balls.groupby(['bowler'])['ball'].count())\n",
        "df = pd.merge(left = Runs, right = balls, on='bowler', how = 'right')\n",
        "df['Economy']=(df['batsman_runs']*6)/df['ball']\n",
        "df=df[df['ball']>=336]\n",
        "df= pd.DataFrame(df['Economy'].sort_values(ascending=True))\n",
        "df.head(10)"
      ],
      "execution_count": null,
      "outputs": [
        {
          "output_type": "execute_result",
          "data": {
            "text/html": [
              "<div>\n",
              "<style scoped>\n",
              "    .dataframe tbody tr th:only-of-type {\n",
              "        vertical-align: middle;\n",
              "    }\n",
              "\n",
              "    .dataframe tbody tr th {\n",
              "        vertical-align: top;\n",
              "    }\n",
              "\n",
              "    .dataframe thead th {\n",
              "        text-align: right;\n",
              "    }\n",
              "</style>\n",
              "<table border=\"1\" class=\"dataframe\">\n",
              "  <thead>\n",
              "    <tr style=\"text-align: right;\">\n",
              "      <th></th>\n",
              "      <th>Economy</th>\n",
              "    </tr>\n",
              "    <tr>\n",
              "      <th>bowler</th>\n",
              "      <th></th>\n",
              "    </tr>\n",
              "  </thead>\n",
              "  <tbody>\n",
              "    <tr>\n",
              "      <th>Rashid Khan</th>\n",
              "      <td>6.100671</td>\n",
              "    </tr>\n",
              "    <tr>\n",
              "      <th>M Muralitharan</th>\n",
              "      <td>6.209258</td>\n",
              "    </tr>\n",
              "    <tr>\n",
              "      <th>SW Tait</th>\n",
              "      <td>6.258427</td>\n",
              "    </tr>\n",
              "    <tr>\n",
              "      <th>A Kumble</th>\n",
              "      <td>6.268566</td>\n",
              "    </tr>\n",
              "    <tr>\n",
              "      <th>DW Steyn</th>\n",
              "      <td>6.303163</td>\n",
              "    </tr>\n",
              "    <tr>\n",
              "      <th>DP Nannes</th>\n",
              "      <td>6.391872</td>\n",
              "    </tr>\n",
              "    <tr>\n",
              "      <th>RE van der Merwe</th>\n",
              "      <td>6.408791</td>\n",
              "    </tr>\n",
              "    <tr>\n",
              "      <th>MA Starc</th>\n",
              "      <td>6.431373</td>\n",
              "    </tr>\n",
              "    <tr>\n",
              "      <th>SL Malinga</th>\n",
              "      <td>6.441829</td>\n",
              "    </tr>\n",
              "    <tr>\n",
              "      <th>R Ashwin</th>\n",
              "      <td>6.458070</td>\n",
              "    </tr>\n",
              "  </tbody>\n",
              "</table>\n",
              "</div>"
            ],
            "text/plain": [
              "                   Economy\n",
              "bowler                    \n",
              "Rashid Khan       6.100671\n",
              "M Muralitharan    6.209258\n",
              "SW Tait           6.258427\n",
              "A Kumble          6.268566\n",
              "DW Steyn          6.303163\n",
              "DP Nannes         6.391872\n",
              "RE van der Merwe  6.408791\n",
              "MA Starc          6.431373\n",
              "SL Malinga        6.441829\n",
              "R Ashwin          6.458070"
            ]
          },
          "metadata": {},
          "execution_count": 28
        }
      ]
    },
    {
      "cell_type": "markdown",
      "metadata": {
        "id": "C9TTz_bfZDSQ"
      },
      "source": [
        "# MOST MAN OF THE MATCH AWARDS"
      ]
    },
    {
      "cell_type": "code",
      "metadata": {
        "colab": {
          "base_uri": "https://localhost:8080/"
        },
        "id": "ceubBWcuZIOs",
        "outputId": "562ee2d5-914e-4ac5-8de5-84b22b53ff85"
      },
      "source": [
        "temp_df = data_matches.groupby('player_of_match').count()['date'].sort_values(ascending=False)\n",
        "temp_df.head(10)"
      ],
      "execution_count": null,
      "outputs": [
        {
          "output_type": "execute_result",
          "data": {
            "text/plain": [
              "player_of_match\n",
              "AB de Villiers    23\n",
              "CH Gayle          22\n",
              "RG Sharma         18\n",
              "MS Dhoni          17\n",
              "DA Warner         17\n",
              "YK Pathan         16\n",
              "SR Watson         16\n",
              "SK Raina          14\n",
              "G Gambhir         13\n",
              "V Kohli           13\n",
              "Name: date, dtype: int64"
            ]
          },
          "metadata": {},
          "execution_count": 6
        }
      ]
    },
    {
      "cell_type": "code",
      "metadata": {
        "colab": {
          "base_uri": "https://localhost:8080/",
          "height": 360
        },
        "id": "R-3peXLJaBG4",
        "outputId": "6ff0fc10-dcd0-4025-a1b6-1a35c54b378a"
      },
      "source": [
        "plt.figure(figsize=(12,5))\n",
        "sns.barplot(y=temp_df[:10],x=temp_df[:10].index)\n",
        "plt.xlabel('Batsman Name',fontsize=20)\n",
        "plt.ylabel('Number of MoM Awards',fontsize=20)"
      ],
      "execution_count": null,
      "outputs": [
        {
          "output_type": "execute_result",
          "data": {
            "text/plain": [
              "Text(0, 0.5, 'Number of MoM Awards')"
            ]
          },
          "metadata": {},
          "execution_count": 10
        },
        {
          "output_type": "display_data",
          "data": {
            "image/png": "[encoded data removed]",
            "text/plain": [
              "<Figure size 864x360 with 1 Axes>"
            ]
          },
          "metadata": {
            "needs_background": "light"
          }
        }
      ]
    }
  ]
}