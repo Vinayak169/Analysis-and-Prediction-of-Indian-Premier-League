{
  "nbformat": 4,
  "nbformat_minor": 0,
  "metadata": {
    "colab": {
      "name": "Project_team-VS-team.ipynb",
      "provenance": []
    },
    "kernelspec": {
      "name": "python3",
      "display_name": "Python 3"
    },
    "language_info": {
      "name": "python"
    }
  },
  "cells": [
    {
      "cell_type": "markdown",
      "metadata": {
        "id": "_t8GWcpiOjyM"
      },
      "source": [
        "#IMPORTS"
      ]
    },
    {
      "cell_type": "code",
      "metadata": {
        "id": "cwWrBUV4OjMC"
      },
      "source": [
        "import pandas as pd\n",
        "import matplotlib.pyplot as plt\n",
        "from matplotlib.pyplot import figure\n"
      ],
      "execution_count": 1,
      "outputs": []
    },
    {
      "cell_type": "code",
      "metadata": {
        "id": "ds4M6fGmMeWd"
      },
      "source": [
        "df=pd.read_csv('all_season_summary.csv')"
      ],
      "execution_count": 2,
      "outputs": []
    },
    {
      "cell_type": "code",
      "metadata": {
        "id": "Ei-x75MHOwQ_"
      },
      "source": [
        "df1=df[['home_team','away_team','decision','winner']]"
      ],
      "execution_count": 3,
      "outputs": []
    },
    {
      "cell_type": "code",
      "metadata": {
        "colab": {
          "base_uri": "https://localhost:8080/",
          "height": 419
        },
        "id": "dI7VGSFrQBun",
        "outputId": "5332bdf0-0d72-4b67-990e-61f390634bfd"
      },
      "source": [
        "df1"
      ],
      "execution_count": 4,
      "outputs": [
        {
          "output_type": "execute_result",
          "data": {
            "text/html": [
              "<div>\n",
              "<style scoped>\n",
              "    .dataframe tbody tr th:only-of-type {\n",
              "        vertical-align: middle;\n",
              "    }\n",
              "\n",
              "    .dataframe tbody tr th {\n",
              "        vertical-align: top;\n",
              "    }\n",
              "\n",
              "    .dataframe thead th {\n",
              "        text-align: right;\n",
              "    }\n",
              "</style>\n",
              "<table border=\"1\" class=\"dataframe\">\n",
              "  <thead>\n",
              "    <tr style=\"text-align: right;\">\n",
              "      <th></th>\n",
              "      <th>home_team</th>\n",
              "      <th>away_team</th>\n",
              "      <th>decision</th>\n",
              "      <th>winner</th>\n",
              "    </tr>\n",
              "  </thead>\n",
              "  <tbody>\n",
              "    <tr>\n",
              "      <th>0</th>\n",
              "      <td>MI</td>\n",
              "      <td>CSK</td>\n",
              "      <td>BOWL FIRST</td>\n",
              "      <td>CSK</td>\n",
              "    </tr>\n",
              "    <tr>\n",
              "      <th>1</th>\n",
              "      <td>DC</td>\n",
              "      <td>KXIP</td>\n",
              "      <td>BOWL FIRST</td>\n",
              "      <td>DC</td>\n",
              "    </tr>\n",
              "    <tr>\n",
              "      <th>2</th>\n",
              "      <td>SRH</td>\n",
              "      <td>RCB</td>\n",
              "      <td>BOWL FIRST</td>\n",
              "      <td>RCB</td>\n",
              "    </tr>\n",
              "    <tr>\n",
              "      <th>3</th>\n",
              "      <td>RR</td>\n",
              "      <td>CSK</td>\n",
              "      <td>BOWL FIRST</td>\n",
              "      <td>RR</td>\n",
              "    </tr>\n",
              "    <tr>\n",
              "      <th>4</th>\n",
              "      <td>KKR</td>\n",
              "      <td>MI</td>\n",
              "      <td>BOWL FIRST</td>\n",
              "      <td>MI</td>\n",
              "    </tr>\n",
              "    <tr>\n",
              "      <th>...</th>\n",
              "      <td>...</td>\n",
              "      <td>...</td>\n",
              "      <td>...</td>\n",
              "      <td>...</td>\n",
              "    </tr>\n",
              "    <tr>\n",
              "      <th>819</th>\n",
              "      <td>RCB</td>\n",
              "      <td>MI</td>\n",
              "      <td>BOWL FIRST</td>\n",
              "      <td>MI</td>\n",
              "    </tr>\n",
              "    <tr>\n",
              "      <th>820</th>\n",
              "      <td>KXIP</td>\n",
              "      <td>RR</td>\n",
              "      <td>BOWL FIRST</td>\n",
              "      <td>KXIP</td>\n",
              "    </tr>\n",
              "    <tr>\n",
              "      <th>821</th>\n",
              "      <td>DC</td>\n",
              "      <td>RR</td>\n",
              "      <td>BOWL FIRST</td>\n",
              "      <td>RR</td>\n",
              "    </tr>\n",
              "    <tr>\n",
              "      <th>822</th>\n",
              "      <td>CSK</td>\n",
              "      <td>KXIP</td>\n",
              "      <td>BAT FIRST</td>\n",
              "      <td>CSK</td>\n",
              "    </tr>\n",
              "    <tr>\n",
              "      <th>823</th>\n",
              "      <td>CSK</td>\n",
              "      <td>RR</td>\n",
              "      <td>BOWL FIRST</td>\n",
              "      <td>RR</td>\n",
              "    </tr>\n",
              "  </tbody>\n",
              "</table>\n",
              "<p>824 rows × 4 columns</p>\n",
              "</div>"
            ],
            "text/plain": [
              "    home_team away_team    decision winner\n",
              "0          MI       CSK  BOWL FIRST    CSK\n",
              "1          DC      KXIP  BOWL FIRST     DC\n",
              "2         SRH       RCB  BOWL FIRST    RCB\n",
              "3          RR       CSK  BOWL FIRST     RR\n",
              "4         KKR        MI  BOWL FIRST     MI\n",
              "..        ...       ...         ...    ...\n",
              "819       RCB        MI  BOWL FIRST     MI\n",
              "820      KXIP        RR  BOWL FIRST   KXIP\n",
              "821        DC        RR  BOWL FIRST     RR\n",
              "822       CSK      KXIP   BAT FIRST    CSK\n",
              "823       CSK        RR  BOWL FIRST     RR\n",
              "\n",
              "[824 rows x 4 columns]"
            ]
          },
          "metadata": {},
          "execution_count": 4
        }
      ]
    },
    {
      "cell_type": "code",
      "metadata": {
        "id": "VDmgJDhGPbZ4"
      },
      "source": [
        "l=['CSK','MI','RCB','KKR','KXIP','SRH','RR','DC']\n",
        "y=df1.iloc[:, 1].tolist()\n"
      ],
      "execution_count": 5,
      "outputs": []
    },
    {
      "cell_type": "code",
      "metadata": {
        "id": "rSjSGpINPeVx"
      },
      "source": [
        "list2=[]\n",
        "for i in range(len(l)):\n",
        "  for j in range(i+1,len(l)):\n",
        "    list1=[]\n",
        "    t=0\n",
        "    s=0\n",
        "    u=0\n",
        "    v=0\n",
        "    \n",
        "    if(i!=j):\n",
        "     for k in range(len(y)):\n",
        "      if l[i]==df1.iloc[k, 0] and l[j]==df1.iloc[k, 1]:\n",
        "        s=s+1\n",
        "        if df1.iloc[k, 3]==l[i]:\n",
        "          t=t+1\n",
        "      if l[i]==df1.iloc[k, 1] and l[j]==df1.iloc[k, 0]:\n",
        "        u=u+1\n",
        "        if df1.iloc[k, 3]==l[i]:\n",
        "          v=v+1\n",
        "\n",
        "     list1.append(l[i])\n",
        "     list1.append(l[j])\n",
        "     list1.append(100)\n",
        "     list1.append((100*t)/s)\n",
        "     list1.append(100)\n",
        "     list1.append((100*v)/u)\n",
        "     list2.append(list1)\n",
        "\n",
        "\n",
        "\n",
        "         \n",
        "\n",
        "\n",
        "\n"
      ],
      "execution_count": 14,
      "outputs": []
    },
    {
      "cell_type": "code",
      "metadata": {
        "id": "A2t6t9T2Zb5R"
      },
      "source": [
        "list3=[]\n",
        "list4=[]\n",
        "list5=[]\n",
        "list6=[]\n",
        "list7=[]\n",
        "for i in range(len(list2)):\n",
        "  list3.append(list2[i][2]-list2[i][3])\n",
        "  list4.append(list2[i][3])\n",
        "  list5.append(list2[i][4]-list2[i][5])\n",
        "  list6.append(list2[i][5])\n",
        "  list7.append(list2[i][0]+'vs'+list2[i][1])\n"
      ],
      "execution_count": 15,
      "outputs": []
    },
    {
      "cell_type": "markdown",
      "metadata": {
        "id": "QRD6DkK3P-OA"
      },
      "source": [
        "##TEAM-1 HOME GROUND"
      ]
    },
    {
      "cell_type": "code",
      "metadata": {
        "id": "iITpAQ1daquF",
        "colab": {
          "base_uri": "https://localhost:8080/",
          "height": 654
        },
        "outputId": "28495a60-3744-4c3b-a4df-8ac0a57d7030"
      },
      "source": [
        "plt.bar(list7, list6, color='r', label='away team')\n",
        "plt.bar(list7, list5, bottom=list6,  color='b', label='home team')\n",
        "plt.rcParams[\"figure.figsize\"] = (10,10)\n",
        "plt.xticks(rotation=90)\n",
        "plt.ylim((0,120))\n",
        "plt.legend(loc='upper left', frameon=False)\n",
        "plt.xlabel(\"Team\")\n",
        "plt.ylabel(\"Wins in percentage%\")\n",
        "plt.show()\n",
        "\n"
      ],
      "execution_count": 28,
      "outputs": [
        {
          "output_type": "display_data",
          "data": {
            "image/png": "[encoded data removed]",
            "text/plain": [
              "<Figure size 720x720 with 1 Axes>"
            ]
          },
          "metadata": {
            "needs_background": "light"
          }
        }
      ]
    },
    {
      "cell_type": "markdown",
      "metadata": {
        "id": "W6i11p3GQXgj"
      },
      "source": [
        "##TEAM-2 HOME GROUND"
      ]
    },
    {
      "cell_type": "code",
      "metadata": {
        "colab": {
          "base_uri": "https://localhost:8080/",
          "height": 654
        },
        "id": "PAwgFynNgVVl",
        "outputId": "7ee034e7-3c14-4573-96e4-52e4eb051b77"
      },
      "source": [
        "plt.bar(list7, list4, color='r',label='home team')\n",
        "plt.bar(list7, list3, bottom=list4,  color='b',label='away team')\n",
        "plt.rcParams[\"figure.figsize\"] = (10,10)\n",
        "plt.xticks(rotation=90)\n",
        "plt.ylim((0,120))\n",
        "plt.legend(loc='upper left', frameon=False)\n",
        "plt.xlabel(\"Team\")\n",
        "plt.ylabel(\"Wins\")\n",
        "plt.show()"
      ],
      "execution_count": 29,
      "outputs": [
        {
          "output_type": "display_data",
          "data": {
            "image/png": "[encoded data removed]",
            "text/plain": [
              "<Figure size 720x720 with 1 Axes>"
            ]
          },
          "metadata": {
            "needs_background": "light"
          }
        }
      ]
    }
  ]
}